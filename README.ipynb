{
 "cells": [
  {
   "cell_type": "markdown",
   "id": "6eeb13d2-4523-4892-8afc-81b7d9061ce7",
   "metadata": {},
   "source": [
    "**PersiST**"
   ]
  },
  {
   "cell_type": "markdown",
   "id": "22952da3-66c6-4284-ae00-f95f298ac032",
   "metadata": {},
   "source": [
    "Yeahhhhhhhhhhhhhh"
   ]
  }
 ],
 "metadata": {
  "kernelspec": {
   "display_name": "mif_env",
   "language": "python",
   "name": "mif_env"
  },
  "language_info": {
   "codemirror_mode": {
    "name": "ipython",
    "version": 3
   },
   "file_extension": ".py",
   "mimetype": "text/x-python",
   "name": "python",
   "nbconvert_exporter": "python",
   "pygments_lexer": "ipython3",
   "version": "3.9.18"
  }
 },
 "nbformat": 4,
 "nbformat_minor": 5
}
